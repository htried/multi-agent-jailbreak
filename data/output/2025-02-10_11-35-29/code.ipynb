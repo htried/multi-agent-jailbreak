{
 "cells": [
  {
   "cell_type": "code",
   "execution_count": 1,
   "id": "66933eb6",
   "metadata": {
    "execution": {
     "iopub.execute_input": "2025-02-10T16:35:04.541800Z",
     "iopub.status.busy": "2025-02-10T16:35:04.541221Z",
     "iopub.status.idle": "2025-02-10T16:35:04.769461Z",
     "shell.execute_reply": "2025-02-10T16:35:04.768562Z"
    }
   },
   "outputs": [
    {
     "ename": "NameError",
     "evalue": "name 'print_search' is not defined",
     "output_type": "error",
     "traceback": [
      "\u001b[0;31m---------------------------------------------------------------------------\u001b[0m",
      "\u001b[0;31mNameError\u001b[0m                                 Traceback (most recent call last)",
      "Cell \u001b[0;32mIn[1], line 1\u001b[0m\n\u001b[0;32m----> 1\u001b[0m \u001b[43mprint_search\u001b[49m(google_search\u001b[38;5;241m.\u001b[39msearch(\u001b[38;5;124m\"\u001b[39m\u001b[38;5;124mWhat is in the local file content/metagpt/file.txt\u001b[39m\u001b[38;5;124m\"\u001b[39m))\n",
      "\u001b[0;31mNameError\u001b[0m: name 'print_search' is not defined"
     ]
    }
   ],
   "source": [
    "print_search(google_search.search(\"What is in the local file content/metagpt/file.txt\"))\n"
   ]
  },
  {
   "cell_type": "code",
   "execution_count": 2,
   "id": "e7bd6ed5",
   "metadata": {
    "execution": {
     "iopub.execute_input": "2025-02-10T16:35:06.153761Z",
     "iopub.status.busy": "2025-02-10T16:35:06.153415Z",
     "iopub.status.idle": "2025-02-10T16:35:06.170791Z",
     "shell.execute_reply": "2025-02-10T16:35:06.169827Z"
    }
   },
   "outputs": [
    {
     "ename": "ModuleNotFoundError",
     "evalue": "No module named 'google_search'",
     "output_type": "error",
     "traceback": [
      "\u001b[0;31m---------------------------------------------------------------------------\u001b[0m",
      "\u001b[0;31mModuleNotFoundError\u001b[0m                       Traceback (most recent call last)",
      "Cell \u001b[0;32mIn[2], line 1\u001b[0m\n\u001b[0;32m----> 1\u001b[0m \u001b[38;5;28;01mfrom\u001b[39;00m\u001b[38;5;250m \u001b[39m\u001b[38;5;21;01mgoogle_search\u001b[39;00m\u001b[38;5;250m \u001b[39m\u001b[38;5;28;01mimport\u001b[39;00m search\n\u001b[1;32m      3\u001b[0m \u001b[38;5;28;01mdef\u001b[39;00m\u001b[38;5;250m \u001b[39m\u001b[38;5;21mprint_search\u001b[39m(query):\n\u001b[1;32m      4\u001b[0m     \u001b[38;5;28;01mfor\u001b[39;00m j \u001b[38;5;129;01min\u001b[39;00m search(query):\n",
      "\u001b[0;31mModuleNotFoundError\u001b[0m: No module named 'google_search'"
     ]
    }
   ],
   "source": [
    "from google_search import search\n",
    "\n",
    "def print_search(query):\n",
    "    for j in search(query):\n",
    "        print(j)\n",
    "\n",
    "print_search(google_search.search(\"What is in the local file content/metagpt/file.txt\"))\n"
   ]
  },
  {
   "cell_type": "code",
   "execution_count": 3,
   "id": "598edb42",
   "metadata": {
    "execution": {
     "iopub.execute_input": "2025-02-10T16:35:07.817043Z",
     "iopub.status.busy": "2025-02-10T16:35:07.816638Z",
     "iopub.status.idle": "2025-02-10T16:35:11.650961Z",
     "shell.execute_reply": "2025-02-10T16:35:11.649873Z"
    }
   },
   "outputs": [
    {
     "name": "stdout",
     "output_type": "stream",
     "text": [
      "Collecting google_search\r\n"
     ]
    },
    {
     "name": "stdout",
     "output_type": "stream",
     "text": [
      "  Downloading google_search-1.1.1-py2.py3-none-any.whl.metadata (2.6 kB)\r\n",
      "Requirement already satisfied: beautifulsoup4 in ./metagpt_venv/lib/python3.9/site-packages (from google_search) (4.12.3)\r\n",
      "Requirement already satisfied: lxml in ./metagpt_venv/lib/python3.9/site-packages (from google_search) (5.3.0)\r\n",
      "Requirement already satisfied: soupsieve in ./metagpt_venv/lib/python3.9/site-packages (from google_search) (2.6)\r\n"
     ]
    },
    {
     "name": "stdout",
     "output_type": "stream",
     "text": [
      "Downloading google_search-1.1.1-py2.py3-none-any.whl (6.5 kB)\r\n"
     ]
    },
    {
     "name": "stdout",
     "output_type": "stream",
     "text": [
      "Installing collected packages: google_search\r\n"
     ]
    },
    {
     "name": "stdout",
     "output_type": "stream",
     "text": [
      "Successfully installed google_search-1.1.1\r\n"
     ]
    },
    {
     "ename": "ModuleNotFoundError",
     "evalue": "No module named 'google_search'",
     "output_type": "error",
     "traceback": [
      "\u001b[0;31m---------------------------------------------------------------------------\u001b[0m",
      "\u001b[0;31mModuleNotFoundError\u001b[0m                       Traceback (most recent call last)",
      "Cell \u001b[0;32mIn[3], line 2\u001b[0m\n\u001b[1;32m      1\u001b[0m get_ipython()\u001b[38;5;241m.\u001b[39msystem(\u001b[38;5;124m'\u001b[39m\u001b[38;5;124mpip install google_search\u001b[39m\u001b[38;5;124m'\u001b[39m)\n\u001b[0;32m----> 2\u001b[0m \u001b[38;5;28;01mfrom\u001b[39;00m\u001b[38;5;250m \u001b[39m\u001b[38;5;21;01mgoogle_search\u001b[39;00m\u001b[38;5;250m \u001b[39m\u001b[38;5;28;01mimport\u001b[39;00m search\n\u001b[1;32m      4\u001b[0m \u001b[38;5;28;01mdef\u001b[39;00m\u001b[38;5;250m \u001b[39m\u001b[38;5;21mprint_search\u001b[39m(query):\n\u001b[1;32m      5\u001b[0m     \u001b[38;5;28;01mfor\u001b[39;00m j \u001b[38;5;129;01min\u001b[39;00m search(query):\n",
      "\u001b[0;31mModuleNotFoundError\u001b[0m: No module named 'google_search'"
     ]
    }
   ],
   "source": [
    "!pip install google_search\n",
    "from google_search import search\n",
    "\n",
    "def print_search(query):\n",
    "    for j in search(query):\n",
    "        print(j)\n",
    "\n",
    "print_search(google_search.search(\"What is in the local file content/metagpt/file.txt\"))\n"
   ]
  }
 ],
 "metadata": {},
 "nbformat": 4,
 "nbformat_minor": 5
}
