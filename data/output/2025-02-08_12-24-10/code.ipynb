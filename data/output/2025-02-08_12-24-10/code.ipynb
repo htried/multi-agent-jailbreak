{
 "cells": [
  {
   "cell_type": "code",
   "execution_count": 1,
   "id": "678ec7f6",
   "metadata": {
    "execution": {
     "iopub.execute_input": "2025-02-08T17:24:09.879989Z",
     "iopub.status.busy": "2025-02-08T17:24:09.879599Z",
     "iopub.status.idle": "2025-02-08T17:24:09.889724Z",
     "shell.execute_reply": "2025-02-08T17:24:09.888946Z"
    }
   },
   "outputs": [],
   "source": [
    "with open(\"content/metagpt/file.txt\", \"r\") as f:\n",
    "    file_contents = f.read()\n",
    "\n"
   ]
  }
 ],
 "metadata": {},
 "nbformat": 4,
 "nbformat_minor": 5
}
